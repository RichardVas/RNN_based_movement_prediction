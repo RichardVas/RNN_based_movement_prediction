{
 "cells": [
  {
   "cell_type": "code",
   "execution_count": 3,
   "id": "ca004333",
   "metadata": {},
   "outputs": [],
   "source": [
    "from sklearn.preprocessing import MinMaxScaler\n",
    "import numpy as np"
   ]
  },
  {
   "cell_type": "code",
   "execution_count": 8,
   "id": "077ac273",
   "metadata": {},
   "outputs": [
    {
     "ename": "UnboundLocalError",
     "evalue": "local variable 'xmin' referenced before assignment",
     "output_type": "error",
     "traceback": [
      "\u001b[1;31m---------------------------------------------------------------------------\u001b[0m",
      "\u001b[1;31mUnboundLocalError\u001b[0m                         Traceback (most recent call last)",
      "Input \u001b[1;32mIn [8]\u001b[0m, in \u001b[0;36m<cell line: 28>\u001b[1;34m()\u001b[0m\n\u001b[0;32m     25\u001b[0m             result_vector\u001b[38;5;241m.\u001b[39mappend([x_axis[i],y_axis[i]])\n\u001b[0;32m     26\u001b[0m         \u001b[38;5;28;01mreturn\u001b[39;00m result_vector\n\u001b[1;32m---> 28\u001b[0m \u001b[38;5;28mprint\u001b[39m(\u001b[43mnewscale\u001b[49m\u001b[43m(\u001b[49m\u001b[43m[\u001b[49m\u001b[43m[\u001b[49m\u001b[38;5;241;43m110\u001b[39;49m\u001b[43m,\u001b[49m\u001b[38;5;241;43m2\u001b[39;49m\u001b[43m]\u001b[49m\u001b[43m,\u001b[49m\u001b[43m[\u001b[49m\u001b[38;5;241;43m220\u001b[39;49m\u001b[43m,\u001b[49m\u001b[38;5;241;43m3\u001b[39;49m\u001b[43m]\u001b[49m\u001b[43m]\u001b[49m\u001b[43m)\u001b[49m)\n",
      "Input \u001b[1;32mIn [8]\u001b[0m, in \u001b[0;36mnewscale\u001b[1;34m(input_vector)\u001b[0m\n\u001b[0;32m      6\u001b[0m \u001b[38;5;28;01mfor\u001b[39;00m y \u001b[38;5;129;01min\u001b[39;00m input_vector:y_axis\u001b[38;5;241m.\u001b[39mappend(y[\u001b[38;5;241m1\u001b[39m])\n\u001b[0;32m      8\u001b[0m x_min \u001b[38;5;241m=\u001b[39m \u001b[38;5;28mmin\u001b[39m(x_axis)\n\u001b[1;32m----> 9\u001b[0m \u001b[38;5;28;01mwhile\u001b[39;00m(\u001b[43mxmin\u001b[49m \u001b[38;5;241m>\u001b[39m \u001b[38;5;241m10\u001b[39m):\n\u001b[0;32m     10\u001b[0m     xmin \u001b[38;5;241m=\u001b[39m xmin\u001b[38;5;241m/\u001b[39m\u001b[38;5;241m10\u001b[39m\n\u001b[0;32m     12\u001b[0m x_max \u001b[38;5;241m=\u001b[39m \u001b[38;5;28mmax\u001b[39m(x_axis)\n",
      "\u001b[1;31mUnboundLocalError\u001b[0m: local variable 'xmin' referenced before assignment"
     ]
    }
   ],
   "source": [
    "def newscale(input_vector):\n",
    "        x_axis = []\n",
    "        y_axis = []\n",
    "        for x in input_vector:x_axis.append(x[0])\n",
    "        \n",
    "        for y in input_vector:y_axis.append(y[1])\n",
    "\n",
    "        x_min = min(x_axis)\n",
    "        \n",
    "        while(xmin > 10):\n",
    "            xmin = xmin/10\n",
    "            \n",
    "        x_max = max(x_axis)\n",
    "        while(xmax > 10):\n",
    "            xmax = xmax/10\n",
    "        y_min = min(y_axis)\n",
    "        y_max = max(y_axis)\n",
    "        print(x_min,x_max,y_min,y_max)\n",
    "        \n",
    "        xscale = MinMaxScaler(feature_range=(x_min,x_max))\n",
    "        x = xscale.fit_transform(x_axis)\n",
    "        yscale = MinMaxScaler(feature_range=(y_min,y_max))\n",
    "        y = yscale.fit_transform(y_axis)\n",
    "        result_vector = []\n",
    "        for i in range(len(x_axis)):\n",
    "            result_vector.append([x_axis[i],y_axis[i]])\n",
    "        return result_vector\n",
    "    \n",
    "print(newscale([[110,2],[220,3]]))"
   ]
  },
  {
   "cell_type": "code",
   "execution_count": null,
   "id": "ab4afd9f",
   "metadata": {},
   "outputs": [],
   "source": []
  }
 ],
 "metadata": {
  "kernelspec": {
   "display_name": "Python 3 (ipykernel)",
   "language": "python",
   "name": "python3"
  },
  "language_info": {
   "codemirror_mode": {
    "name": "ipython",
    "version": 3
   },
   "file_extension": ".py",
   "mimetype": "text/x-python",
   "name": "python",
   "nbconvert_exporter": "python",
   "pygments_lexer": "ipython3",
   "version": "3.9.7"
  }
 },
 "nbformat": 4,
 "nbformat_minor": 5
}
